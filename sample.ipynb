{
 "cells": [
  {
   "cell_type": "markdown",
   "id": "59e95cf9-aff0-4cb5-81b9-e88cbed39ba9",
   "metadata": {},
   "source": [
    "# Sample notebook"
   ]
  },
  {
   "cell_type": "code",
   "execution_count": 1,
   "id": "8c7f53f6-0790-4fb1-81b5-68d17fc8810a",
   "metadata": {},
   "outputs": [
    {
     "data": {
      "text/plain": [
       "5"
      ]
     },
     "execution_count": 1,
     "metadata": {},
     "output_type": "execute_result"
    }
   ],
   "source": [
    "3+2"
   ]
  },
  {
   "cell_type": "code",
   "execution_count": null,
   "id": "928e5ae2-1f53-4f36-98d6-45e391f608ba",
   "metadata": {},
   "outputs": [],
   "source": []
  }
 ],
 "metadata": {
  "kernelspec": {
   "display_name": "Python 3 (ipykernel)",
   "language": "python",
   "name": "python3"
  },
  "language_info": {
   "codemirror_mode": {
    "name": "ipython",
    "version": 3
   },
   "file_extension": ".py",
   "mimetype": "text/x-python",
   "name": "python",
   "nbconvert_exporter": "python",
   "pygments_lexer": "ipython3",
   "version": "3.11.7"
  }
 },
 "nbformat": 4,
 "nbformat_minor": 5
}
